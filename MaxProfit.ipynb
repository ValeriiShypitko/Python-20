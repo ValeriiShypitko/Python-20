{
 "cells": [
  {
   "cell_type": "code",
   "execution_count": 24,
   "id": "09277858-21b6-4603-9d9f-a50ffe426939",
   "metadata": {},
   "outputs": [],
   "source": [
    "class Solution(object):\n",
    "    def maxProfit(self, prices):\n",
    "        \"\"\"\n",
    "        :type prices: List[int]\n",
    "        :rtype: int\n",
    "        \"\"\"\n",
    "        profit = 0\n",
    "        minVal = prices[0]\n",
    "\n",
    "        for item in range(1, len(prices)):\n",
    "            if prices[item] < minVal:\n",
    "                minVal = prices[item]\n",
    "\n",
    "            elif prices[item] - minVal > profit:\n",
    "                profit = prices[item] - minVal\n",
    "\n",
    "        return profit"
   ]
  },
  {
   "cell_type": "code",
   "execution_count": 25,
   "id": "7e12a89a-4b68-4609-8f53-99fb26289a99",
   "metadata": {},
   "outputs": [
    {
     "name": "stdout",
     "output_type": "stream",
     "text": [
      "5\n"
     ]
    }
   ],
   "source": [
    "obj = Solution()\n",
    "print(obj.maxProfit([7,1,5,3,6,4]))"
   ]
  },
  {
   "cell_type": "code",
   "execution_count": null,
   "id": "2865cd8c-b900-42c5-baa3-d099ccafde0c",
   "metadata": {},
   "outputs": [],
   "source": []
  }
 ],
 "metadata": {
  "kernelspec": {
   "display_name": "Python [conda env:base] *",
   "language": "python",
   "name": "conda-base-py"
  },
  "language_info": {
   "codemirror_mode": {
    "name": "ipython",
    "version": 3
   },
   "file_extension": ".py",
   "mimetype": "text/x-python",
   "name": "python",
   "nbconvert_exporter": "python",
   "pygments_lexer": "ipython3",
   "version": "3.13.5"
  }
 },
 "nbformat": 4,
 "nbformat_minor": 5
}
